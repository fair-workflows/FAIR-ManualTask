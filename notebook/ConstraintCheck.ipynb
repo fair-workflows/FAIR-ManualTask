{
 "cells": [
  {
   "cell_type": "code",
   "execution_count": 2,
   "metadata": {},
   "outputs": [],
   "source": [
    "from nanopub import Publication, NanopubClient\n",
    "from rdflib import Graph, URIRef, RDF, FOAF"
   ]
  },
  {
   "cell_type": "code",
   "execution_count": 3,
   "metadata": {},
   "outputs": [],
   "source": [
    "client = NanopubClient()"
   ]
  },
  {
   "cell_type": "code",
   "execution_count": 4,
   "metadata": {},
   "outputs": [
    {
     "name": "stdout",
     "output_type": "stream",
     "text": [
      "Original source URI = http://purl.org/np/RAit8PJsbMXtPjB_P-b-ta0-AzmwWA4aYczg8sl_i1lkU\n",
      "@prefix dcterms: <http://purl.org/dc/terms/> .\n",
      "@prefix dul: <http://www.ontologydesignpatterns.org/ont/dul/DUL.owl#> .\n",
      "@prefix np: <http://www.nanopub.org/nschema#> .\n",
      "@prefix npx: <http://purl.org/nanopub/x/> .\n",
      "@prefix pplan: <http://purl.org/net/p-plan#> .\n",
      "@prefix prov: <http://www.w3.org/ns/prov#> .\n",
      "@prefix pwo: <http://purl.org/spar/pwo/> .\n",
      "@prefix rdfs: <http://www.w3.org/2000/01/rdf-schema#> .\n",
      "@prefix sub: <http://purl.org/np/RAit8PJsbMXtPjB_P-b-ta0-AzmwWA4aYczg8sl_i1lkU#> .\n",
      "@prefix this: <http://purl.org/np/RAit8PJsbMXtPjB_P-b-ta0-AzmwWA4aYczg8sl_i1lkU> .\n",
      "@prefix xsd: <http://www.w3.org/2001/XMLSchema#> .\n",
      "\n",
      "sub:Head {\n",
      "    this: a np:Nanopublication ;\n",
      "        np:hasAssertion sub:assertion ;\n",
      "        np:hasProvenance sub:provenance ;\n",
      "        np:hasPublicationInfo sub:pubInfo .\n",
      "}\n",
      "\n",
      "sub:provenance {\n",
      "    sub:assertion prov:generatedAtTime \"2021-03-04T15:24:52.323737\"^^xsd:dateTime .\n",
      "}\n",
      "\n",
      "sub:assertion {\n",
      "    <http://purl.org/np/RA06YEW8XOWUSSHNezDi6e_DQawHNLQ613qyCUe1PlbUA#step> pplan:isStepOfPlan sub:plan ;\n",
      "        dul:precedes <http://purl.org/np/RASnvDwtq8JmeeC7s5yNBHNk3-EPwJFyy2OTscRTZ3NL4#step> .\n",
      "\n",
      "    <http://purl.org/np/RAR2BPynFz9tNYpH6dVxDBiRQ8YNR1lksachhdneaIwjQ#step> pplan:isStepOfPlan sub:plan ;\n",
      "        dul:precedes <http://purl.org/np/RAUWOuR09z2DgVAigzb9LObr4Et5Gw8po3_T0r2vp8tcI#step> .\n",
      "\n",
      "    <http://purl.org/np/RASnvDwtq8JmeeC7s5yNBHNk3-EPwJFyy2OTscRTZ3NL4#step> pplan:isStepOfPlan sub:plan ;\n",
      "        dul:precedes <http://purl.org/np/RApoqP4lv5AOvQUPlRE1i04QMOITLFL3tQuc6kDT-ZBBI#step> .\n",
      "\n",
      "    <http://purl.org/np/RAUWOuR09z2DgVAigzb9LObr4Et5Gw8po3_T0r2vp8tcI#step> pplan:isStepOfPlan sub:plan .\n",
      "\n",
      "    <http://purl.org/np/RAiDRLESQJ9y2mMiyiya5TvKxaN_1-MQMLyA5K0a4v9lc#step> pplan:isStepOfPlan sub:plan ;\n",
      "        dul:precedes <http://purl.org/np/RAR2BPynFz9tNYpH6dVxDBiRQ8YNR1lksachhdneaIwjQ#step> .\n",
      "\n",
      "    <http://purl.org/np/RApoqP4lv5AOvQUPlRE1i04QMOITLFL3tQuc6kDT-ZBBI#step> pplan:isStepOfPlan sub:plan ;\n",
      "        dul:precedes <http://purl.org/np/RAwHKkQ8dmPkzhTGOQN0lPMrHLzjbm-73-rXPXrb-vtEY#step> .\n",
      "\n",
      "    <http://purl.org/np/RAwHKkQ8dmPkzhTGOQN0lPMrHLzjbm-73-rXPXrb-vtEY#step> pplan:isStepOfPlan sub:plan ;\n",
      "        dul:precedes <http://purl.org/np/RAiDRLESQJ9y2mMiyiya5TvKxaN_1-MQMLyA5K0a4v9lc#step> .\n",
      "\n",
      "    sub:plan a pplan:Plan ;\n",
      "        rdfs:label \"wf_protocol1\" ;\n",
      "        dcterms:description \"\"\"Isolation of Human PBMCs\n",
      "DOI: 10.21769/BioProtoc.323\"\"\" ;\n",
      "        pwo:hasFirstStep <http://purl.org/np/RA06YEW8XOWUSSHNezDi6e_DQawHNLQ613qyCUe1PlbUA#step> .\n",
      "}\n",
      "\n",
      "sub:pubInfo {\n",
      "    sub:sig npx:hasAlgorithm \"RSA\" ;\n",
      "        npx:hasPublicKey \"MIGfMA0GCSqGSIb3DQEBAQUAA4GNADCBiQKBgQCEOtYac15zsWN/LAu3q7YFdW0UZNfX3BAarHW/LB1DHGcz0yYr0v7hKGbnCLJ+UkDfu3Mgj7BnCm1s8ulMULKfF4YjqS2YKHYZjNKVaIjSigFOpjOwIx99+qPlvd5CuG+Gia/sJA05jy2bPKLwb/kmVeeX0zORZudWLyRMLXp8UQIDAQAB\" ;\n",
      "        npx:hasSignature \"JjDec6Ff4CTEzkEX0p1mJqF9bIHJCTYtEBDmFFfEBq3YLHd012VbRXLSMwagEYcTBMQmzWRd014zqquKDYaNahW10S59NYmWu6Tm3SWDYJiW46i6wfLj0FkJIJ29iONjk4owmxqzGlZOkVnrF3VRKmRJ22bVzlXYYtzJ14mW+fc=\" ;\n",
      "        npx:hasSignatureTarget this: .\n",
      "\n",
      "    this: npx:introduces sub:plan ;\n",
      "        prov:generatedAtTime \"2021-03-04T15:24:52.323737\"^^xsd:dateTime ;\n",
      "        prov:wasAttributedTo <https://hypothes.is/users/iannotate> .\n",
      "}\n",
      "\n",
      "\n",
      "http://purl.org/np/RAit8PJsbMXtPjB_P-b-ta0-AzmwWA4aYczg8sl_i1lkU#plan http://purl.org/spar/pwo/hasFirstStep http://purl.org/np/RA06YEW8XOWUSSHNezDi6e_DQawHNLQ613qyCUe1PlbUA#step\n",
      "http://purl.org/np/RAwHKkQ8dmPkzhTGOQN0lPMrHLzjbm-73-rXPXrb-vtEY#step http://purl.org/net/p-plan#isStepOfPlan http://purl.org/np/RAit8PJsbMXtPjB_P-b-ta0-AzmwWA4aYczg8sl_i1lkU#plan\n",
      "http://purl.org/np/RASnvDwtq8JmeeC7s5yNBHNk3-EPwJFyy2OTscRTZ3NL4#step http://www.ontologydesignpatterns.org/ont/dul/DUL.owl#precedes http://purl.org/np/RApoqP4lv5AOvQUPlRE1i04QMOITLFL3tQuc6kDT-ZBBI#step\n",
      "http://purl.org/np/RAit8PJsbMXtPjB_P-b-ta0-AzmwWA4aYczg8sl_i1lkU#plan http://www.w3.org/1999/02/22-rdf-syntax-ns#type http://purl.org/net/p-plan#Plan\n",
      "http://purl.org/np/RApoqP4lv5AOvQUPlRE1i04QMOITLFL3tQuc6kDT-ZBBI#step http://www.ontologydesignpatterns.org/ont/dul/DUL.owl#precedes http://purl.org/np/RAwHKkQ8dmPkzhTGOQN0lPMrHLzjbm-73-rXPXrb-vtEY#step\n",
      "http://purl.org/np/RAR2BPynFz9tNYpH6dVxDBiRQ8YNR1lksachhdneaIwjQ#step http://www.ontologydesignpatterns.org/ont/dul/DUL.owl#precedes http://purl.org/np/RAUWOuR09z2DgVAigzb9LObr4Et5Gw8po3_T0r2vp8tcI#step\n",
      "http://purl.org/np/RAiDRLESQJ9y2mMiyiya5TvKxaN_1-MQMLyA5K0a4v9lc#step http://purl.org/net/p-plan#isStepOfPlan http://purl.org/np/RAit8PJsbMXtPjB_P-b-ta0-AzmwWA4aYczg8sl_i1lkU#plan\n",
      "http://purl.org/np/RAit8PJsbMXtPjB_P-b-ta0-AzmwWA4aYczg8sl_i1lkU#plan http://purl.org/dc/terms/description Isolation of Human PBMCs\n",
      "DOI: 10.21769/BioProtoc.323\n",
      "http://purl.org/np/RAit8PJsbMXtPjB_P-b-ta0-AzmwWA4aYczg8sl_i1lkU#plan http://www.w3.org/2000/01/rdf-schema#label wf_protocol1\n",
      "http://purl.org/np/RApoqP4lv5AOvQUPlRE1i04QMOITLFL3tQuc6kDT-ZBBI#step http://purl.org/net/p-plan#isStepOfPlan http://purl.org/np/RAit8PJsbMXtPjB_P-b-ta0-AzmwWA4aYczg8sl_i1lkU#plan\n",
      "http://purl.org/np/RAUWOuR09z2DgVAigzb9LObr4Et5Gw8po3_T0r2vp8tcI#step http://purl.org/net/p-plan#isStepOfPlan http://purl.org/np/RAit8PJsbMXtPjB_P-b-ta0-AzmwWA4aYczg8sl_i1lkU#plan\n",
      "http://purl.org/np/RAwHKkQ8dmPkzhTGOQN0lPMrHLzjbm-73-rXPXrb-vtEY#step http://www.ontologydesignpatterns.org/ont/dul/DUL.owl#precedes http://purl.org/np/RAiDRLESQJ9y2mMiyiya5TvKxaN_1-MQMLyA5K0a4v9lc#step\n",
      "http://purl.org/np/RA06YEW8XOWUSSHNezDi6e_DQawHNLQ613qyCUe1PlbUA#step http://www.ontologydesignpatterns.org/ont/dul/DUL.owl#precedes http://purl.org/np/RASnvDwtq8JmeeC7s5yNBHNk3-EPwJFyy2OTscRTZ3NL4#step\n",
      "http://purl.org/np/RAR2BPynFz9tNYpH6dVxDBiRQ8YNR1lksachhdneaIwjQ#step http://purl.org/net/p-plan#isStepOfPlan http://purl.org/np/RAit8PJsbMXtPjB_P-b-ta0-AzmwWA4aYczg8sl_i1lkU#plan\n",
      "http://purl.org/np/RASnvDwtq8JmeeC7s5yNBHNk3-EPwJFyy2OTscRTZ3NL4#step http://purl.org/net/p-plan#isStepOfPlan http://purl.org/np/RAit8PJsbMXtPjB_P-b-ta0-AzmwWA4aYczg8sl_i1lkU#plan\n",
      "http://purl.org/np/RAiDRLESQJ9y2mMiyiya5TvKxaN_1-MQMLyA5K0a4v9lc#step http://www.ontologydesignpatterns.org/ont/dul/DUL.owl#precedes http://purl.org/np/RAR2BPynFz9tNYpH6dVxDBiRQ8YNR1lksachhdneaIwjQ#step\n",
      "http://purl.org/np/RA06YEW8XOWUSSHNezDi6e_DQawHNLQ613qyCUe1PlbUA#step http://purl.org/net/p-plan#isStepOfPlan http://purl.org/np/RAit8PJsbMXtPjB_P-b-ta0-AzmwWA4aYczg8sl_i1lkU#plan\n"
     ]
    }
   ],
   "source": [
    "# Fetch the nanopublication at the specified URI\n",
    "publication = client.fetch(\"http://purl.org/np/RAit8PJsbMXtPjB_P-b-ta0-AzmwWA4aYczg8sl_i1lkU\")\n",
    "\n",
    "# Print the RDF contents of the nanopublication\n",
    "print(publication)\n",
    "\n",
    "# Iterate through all triples in the assertion graph\n",
    "for s, p, o in publication.assertion:\n",
    "    print(s, p, o)"
   ]
  },
  {
   "cell_type": "code",
   "execution_count": 5,
   "metadata": {},
   "outputs": [],
   "source": [
    "def add_assertion_to_graph(graph, np_uri):\n",
    "    # Fetch the nanopublication at the specified URI\n",
    "    publication = client.fetch(np_uri)\n",
    "\n",
    "    # Print the RDF contents of the nanopublication\n",
    "    #print(publication)\n",
    "\n",
    "    # Iterate through all triples in the assertion graph\n",
    "    for s, p, o in publication.assertion:\n",
    "        #print(s, p, o)\n",
    "        graph.add((s, p, o))\n",
    "    \n",
    "    return graph"
   ]
  },
  {
   "cell_type": "code",
   "execution_count": 6,
   "metadata": {},
   "outputs": [],
   "source": [
    "g= Graph()"
   ]
  },
  {
   "cell_type": "code",
   "execution_count": 7,
   "metadata": {},
   "outputs": [],
   "source": [
    "data_graph= add_assertion_to_graph(g, \"http://purl.org/np/RAit8PJsbMXtPjB_P-b-ta0-AzmwWA4aYczg8sl_i1lkU\") "
   ]
  },
  {
   "cell_type": "code",
   "execution_count": 8,
   "metadata": {},
   "outputs": [
    {
     "data": {
      "text/plain": [
       "<Graph identifier=N800d56a427d142e7ba7ebc20517762b0 (<class 'rdflib.graph.Graph'>)>"
      ]
     },
     "execution_count": 8,
     "metadata": {},
     "output_type": "execute_result"
    }
   ],
   "source": [
    "data_graph"
   ]
  },
  {
   "cell_type": "code",
   "execution_count": 9,
   "metadata": {},
   "outputs": [],
   "source": [
    "data_graph.serialize('nanotate.ttl', format='turtle')"
   ]
  },
  {
   "cell_type": "code",
   "execution_count": 38,
   "metadata": {},
   "outputs": [],
   "source": [
    "data_graph= Graph()"
   ]
  },
  {
   "cell_type": "code",
   "execution_count": 39,
   "metadata": {},
   "outputs": [
    {
     "data": {
      "text/plain": [
       "<Graph identifier=Nf30ea64d7888411c996d65126393e2bc (<class 'rdflib.graph.Graph'>)>"
      ]
     },
     "execution_count": 39,
     "metadata": {},
     "output_type": "execute_result"
    }
   ],
   "source": [
    "data_graph.parse('nanotate.ttl', format='turtle')"
   ]
  },
  {
   "cell_type": "code",
   "execution_count": 32,
   "metadata": {},
   "outputs": [],
   "source": [
    "sg = Graph()"
   ]
  },
  {
   "cell_type": "code",
   "execution_count": 26,
   "metadata": {},
   "outputs": [
    {
     "data": {
      "text/plain": [
       "<Graph identifier=N2bd2da6041434d7ea3bf82d746d83d8c (<class 'rdflib.graph.Graph'>)>"
      ]
     },
     "execution_count": 26,
     "metadata": {},
     "output_type": "execute_result"
    }
   ],
   "source": [
    "sg.parse('../shacl/plex_shapes.ttl', format='turtle')"
   ]
  },
  {
   "cell_type": "code",
   "execution_count": 33,
   "metadata": {},
   "outputs": [
    {
     "data": {
      "text/plain": [
       "<Graph identifier=N6c55db2714dc4b94b15103b54f767b78 (<class 'rdflib.graph.Graph'>)>"
      ]
     },
     "execution_count": 33,
     "metadata": {},
     "output_type": "execute_result"
    }
   ],
   "source": [
    "sg.parse('../shacl/topo_shapes.ttl', format='turtle')"
   ]
  },
  {
   "cell_type": "code",
   "execution_count": 34,
   "metadata": {},
   "outputs": [
    {
     "name": "stdout",
     "output_type": "stream",
     "text": [
      "http://schema.org/StepShape http://www.w3.org/ns/shacl#property ub10bL16C16\n",
      "ub10bL16C16 http://www.w3.org/ns/shacl#node http://purl.org/net/p-plan#Step\n",
      "http://schema.org/StepShape http://www.w3.org/1999/02/22-rdf-syntax-ns#type http://www.w3.org/ns/shacl#NodeShape\n",
      "ub10bL12C17 http://www.w3.org/ns/shacl#path http://purl.org/net/p-plan#isStepOfPlan\n",
      "http://schema.org/StepShape http://www.w3.org/ns/shacl#property ub10bL12C17\n",
      "ub10bL12C17 http://www.w3.org/ns/shacl#node http://purl.org/net/p-plan#Plan\n",
      "ub10bL16C16 http://www.w3.org/ns/shacl#path http://www.ontologydesignpatterns.org/ont/dul/DUL.owl#precedes\n",
      "http://schema.org/StepShape http://www.w3.org/ns/shacl#targetClass http://purl.org/net/p-plan#Step\n"
     ]
    }
   ],
   "source": [
    "for s, p, o in sg:\n",
    "    print(s, p, o)"
   ]
  },
  {
   "cell_type": "code",
   "execution_count": 40,
   "metadata": {},
   "outputs": [],
   "source": [
    "from pyshacl import validate"
   ]
  },
  {
   "cell_type": "code",
   "execution_count": 41,
   "metadata": {},
   "outputs": [],
   "source": [
    "r = validate(data_graph,\n",
    "      shacl_graph=sg,\n",
    "      ont_graph=None,\n",
    "      inference='rdfs',\n",
    "      abort_on_error=False,\n",
    "      meta_shacl=False,\n",
    "      advanced=False,\n",
    "      js=False,\n",
    "      debug=False)\n",
    "conforms, results_graph, results_text = r"
   ]
  },
  {
   "cell_type": "code",
   "execution_count": 42,
   "metadata": {},
   "outputs": [
    {
     "data": {
      "text/plain": [
       "True"
      ]
     },
     "execution_count": 42,
     "metadata": {},
     "output_type": "execute_result"
    }
   ],
   "source": [
    "conforms"
   ]
  },
  {
   "cell_type": "code",
   "execution_count": null,
   "metadata": {},
   "outputs": [],
   "source": []
  }
 ],
 "metadata": {
  "kernelspec": {
   "display_name": "Python 3",
   "language": "python",
   "name": "python3"
  },
  "language_info": {
   "codemirror_mode": {
    "name": "ipython",
    "version": 3
   },
   "file_extension": ".py",
   "mimetype": "text/x-python",
   "name": "python",
   "nbconvert_exporter": "python",
   "pygments_lexer": "ipython3",
   "version": "3.8.3"
  }
 },
 "nbformat": 4,
 "nbformat_minor": 4
}
